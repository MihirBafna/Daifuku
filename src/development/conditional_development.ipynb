{
 "cells": [
  {
   "cell_type": "code",
   "execution_count": 1,
   "metadata": {},
   "outputs": [
    {
     "name": "stderr",
     "output_type": "stream",
     "text": [
      "/data/cb/mihirb14/mambaforge/envs/daifuku/lib/python3.9/site-packages/scipy-1.7.3-py3.9-linux-x86_64.egg/scipy/__init__.py:146: UserWarning: A NumPy version >=1.16.5 and <1.23.0 is required for this version of SciPy (detected version 1.25.0\n",
      "  warnings.warn(f\"A NumPy version >={np_minversion} and <{np_maxversion}\"\n"
     ]
    }
   ],
   "source": [
    "import sys  \n",
    "sys.path.insert(0, '../')\n",
    "import numpy as np\n",
    "import pandas as pd\n",
    "import torch\n",
    "from torch.utils.data import Dataset, DataLoader\n",
    "from torchvision.transforms import ToTensor, Pad\n",
    "import os\n",
    "import pickle\n",
    "import plotly.express as px\n",
    "import plotly.graph_objects as go\n",
    "import ipywidgets as widgets\n",
    "\n",
    "from tqdm import tqdm\n",
    "import seaborn as sns\n",
    "from pathlib import Path\n",
    "\n",
    "import preprocessing as pre\n",
    "import visualize as vis\n",
    "from models import LightningDiffusion as ld\n",
    "\n",
    "\n",
    "%load_ext autoreload\n",
    "%autoreload 2\n"
   ]
  },
  {
   "cell_type": "code",
   "execution_count": 2,
   "metadata": {},
   "outputs": [
    {
     "data": {
      "text/plain": [
       "'/data/cb/ruochiz/scHiC/m3c_Tian_et_al'"
      ]
     },
     "execution_count": 2,
     "metadata": {},
     "output_type": "execute_result"
    }
   ],
   "source": [
    "data_path = \"/data/cb/ruochiz/scHiC/\"\n",
    "data_names = [\"m3c_mouse_brain_small\",  \"m3c_Tian_et_al\", \"m3C_hg38_M1C_old\",  \"m3c_human_pfc_old\", \"m3c_Heffel_et_al\"]\n",
    "selection = int(input(\"Pick dataset (1. Small Mouse Brain | 2. Tian et al): \"))-1\n",
    "data_name = data_names[selection]\n",
    "dataset_path = os.path.join(data_path,data_name)\n",
    "\n",
    "if selection ==0:\n",
    "    config = pre.get_config(\"/data/cb/mihirb14/projects/Daifuku/configs/config_m3c_mouse_brain_small_1M.json\")\n",
    "    train_config = pre.get_config(\"/data/cb/mihirb14/projects/Daifuku/configs/train_configs/config_joint_smallmouse.json\")\n",
    "elif selection == 1:\n",
    "    config = pre.get_config(\"/data/cb/mihirb14/projects/Daifuku/configs/config_m3c_Tian_HumanBrain_1M.JSON\")\n",
    "    train_config = pre.get_config(\"/data/cb/mihirb14/projects/Daifuku/configs/train_configs/config_joint_tianhumanbrain.json\")\n",
    "\n",
    "train_config[\"normalization\"] = \"none\" # for visualization purposes\n",
    "config[\"train_config\"] = train_config\n",
    "\n",
    "dataset_path\n",
    "# dataset_hic_path = os.path.join(dataset_path,\"contact_pairs_filter\")"
   ]
  },
  {
   "cell_type": "markdown",
   "metadata": {},
   "source": [
    "### Joint Dataloading (Paired dataloader for pseudobulk and single cell)"
   ]
  },
  {
   "cell_type": "code",
   "execution_count": 4,
   "metadata": {},
   "outputs": [],
   "source": [
    "sc_indices_file = \"/data/cb/mihirb14/projects/Daifuku/data/m3c_Tian_et_al/contactmaps_1M/aggregated/sc/chr10_sparse_adj.npy\"\n",
    "bulk_file = \"/data/cb/mihirb14/projects/Daifuku/data/m3c_Tian_et_al/contactmaps_1M/aggregated/bulk/chr10.npy\"\n",
    "\n",
    "sc_indices = np.load(sc_indices_file)\n",
    "bulk_sparse_maps = np.load(bulk_file)\n",
    "\n",
    "\n",
    "# cell_numbers = range(1,143761)\n",
    "\n",
    "# ogpath = \n",
    "# sparse = np.load(\"/data/cb/mihirb14/projects/Daifuku/data/m3c_Tian_et_al/contactmaps_1M/raw/chr10_sparse_adj.npy\",allow_pickle=True)\n",
    "# all_maps = [map.todense() for map in sparse]\n",
    "\n",
    "    \n",
    "# save = np.stack(all_maps,axis=0)\n",
    "# np.save(os.path.join(ogpath,f\"aggregated/chr10.npy\"),save)\n",
    "# save.shape"
   ]
  },
  {
   "cell_type": "markdown",
   "metadata": {},
   "source": [
    "Takes ~4 minutes to load in Tian Human brain dataset"
   ]
  },
  {
   "cell_type": "code",
   "execution_count": 4,
   "metadata": {},
   "outputs": [
    {
     "name": "stdout",
     "output_type": "stream",
     "text": [
      "Bulk Sparse Dataset Size 1150080\n",
      "sc Sparse Dataset Size 1150080\n"
     ]
    }
   ],
   "source": [
    "joint_hic_dataset = pre.JointHiCDataset(config=config)\n",
    "joint_hic_dataloader = DataLoader(joint_hic_dataset, batch_size=1) # batch size 1 just for testing purposes"
   ]
  },
  {
   "cell_type": "code",
   "execution_count": 5,
   "metadata": {},
   "outputs": [
    {
     "name": "stdout",
     "output_type": "stream",
     "text": [
      "torch.Size([136, 136]) torch.Size([136, 136])\n"
     ]
    },
    {
     "data": {
      "application/vnd.jupyter.widget-view+json": {
       "model_id": "b653a19cf4674462a258c6735803f260",
       "version_major": 2,
       "version_minor": 0
      },
      "text/plain": [
       "HBox(children=(FigureWidget({\n",
       "    'data': [{'coloraxis': 'coloraxis',\n",
       "              'hovertemplate': 'x: %{x}<…"
      ]
     },
     "metadata": {},
     "output_type": "display_data"
    }
   ],
   "source": [
    "batch = next(iter(joint_hic_dataloader))\n",
    "bulk,sc = batch.squeeze()[0],batch.squeeze()[1]\n",
    "print(bulk.shape, sc.shape)\n",
    "visualized = [vis.visualize_contact_map(bulk,zmax=1, title=\"Bulk Contact Map 1\"),vis.visualize_contact_map(sc,zmax=1, title=\"Single Cell Contact Map 1\") ]\n",
    "display(vis.visualize_multiple_jupyter(visualized))"
   ]
  },
  {
   "cell_type": "markdown",
   "metadata": {},
   "source": [
    "### Load in Daifuku Model"
   ]
  },
  {
   "cell_type": "code",
   "execution_count": 10,
   "metadata": {},
   "outputs": [
    {
     "name": "stdout",
     "output_type": "stream",
     "text": [
      "Conditioning has been set to true. Using conditional Unet as score model.\n"
     ]
    },
    {
     "data": {
      "text/plain": [
       "models.LightningDiffusion.LightningDiffusion"
      ]
     },
     "execution_count": 10,
     "metadata": {},
     "output_type": "execute_result"
    }
   ],
   "source": [
    "daifuku = ld.LightningDiffusion(train_config=train_config)\n",
    "type(daifuku)"
   ]
  },
  {
   "cell_type": "code",
   "execution_count": 16,
   "metadata": {},
   "outputs": [
    {
     "data": {
      "text/plain": [
       "(tensor([[[[ 2.5673,  3.8142,  4.1953,  ...,  0.0104, -0.3448, -0.6133],\n",
       "           [-0.0446,  0.1391,  1.0921,  ...,  2.8347,  0.2233, -0.9722],\n",
       "           [-3.4471, -5.9073, -2.4648,  ...,  3.5274,  2.8734,  4.4010],\n",
       "           ...,\n",
       "           [-2.7203, -4.7291, -7.8794,  ..., -4.6024,  3.0866,  8.3258],\n",
       "           [-2.9051, -3.8921, -6.5966,  ..., -6.8129,  1.6119,  8.3386],\n",
       "           [-0.3797,  1.4915, -2.4056,  ..., -8.2699, -1.3209,  2.5943]]]],\n",
       "        grad_fn=<ConvolutionBackward0>),\n",
       " tensor(9.7999, grad_fn=<MeanBackward0>))"
      ]
     },
     "execution_count": 16,
     "metadata": {},
     "output_type": "execute_result"
    }
   ],
   "source": [
    "daifuku(bulk.unsqueeze(0).unsqueeze(0),condition=sc.unsqueeze(0).unsqueeze(0))"
   ]
  },
  {
   "cell_type": "code",
   "execution_count": 17,
   "metadata": {},
   "outputs": [
    {
     "name": "stdout",
     "output_type": "stream",
     "text": [
      "torch.Size([1, 1, 136, 136]) torch.Size([1, 1, 136, 136])\n"
     ]
    },
    {
     "ename": "AttributeError",
     "evalue": "'NoneType' object has no attribute 'experiment'",
     "output_type": "error",
     "traceback": [
      "\u001b[0;31m---------------------------------------------------------------------------\u001b[0m",
      "\u001b[0;31mAttributeError\u001b[0m                            Traceback (most recent call last)",
      "\u001b[1;32m/data/cb/mihirb14/projects/Daifuku/src/development/conditional_development.ipynb Cell 11\u001b[0m line \u001b[0;36m1\n\u001b[0;32m----> <a href='vscode-notebook-cell://ssh-remote%2Bimp.csail.mit.edu/data/cb/mihirb14/projects/Daifuku/src/development/conditional_development.ipynb#X13sdnNjb2RlLXJlbW90ZQ%3D%3D?line=0'>1</a>\u001b[0m daifuku\u001b[39m.\u001b[39;49mtraining_step(\u001b[39mnext\u001b[39;49m(\u001b[39miter\u001b[39;49m(joint_hic_dataloader)),\u001b[39m0\u001b[39;49m)\n",
      "File \u001b[0;32m/data/cb/mihirb14/projects/Daifuku/src/development/../models/LightningDiffusion.py:71\u001b[0m, in \u001b[0;36mLightningDiffusion.training_step\u001b[0;34m(self, train_batch, batch_idx)\u001b[0m\n\u001b[1;32m     69\u001b[0m     og \u001b[39m=\u001b[39m wandb\u001b[39m.\u001b[39mImage(train_batch[\u001b[39m0\u001b[39m]\u001b[39m.\u001b[39msqueeze()\u001b[39m.\u001b[39mcpu(), caption\u001b[39m=\u001b[39m\u001b[39m\"\u001b[39m\u001b[39moriginal contact map\u001b[39m\u001b[39m\"\u001b[39m)\n\u001b[1;32m     70\u001b[0m     recon \u001b[39m=\u001b[39m wandb\u001b[39m.\u001b[39mImage(out[\u001b[39m0\u001b[39m]\u001b[39m.\u001b[39msqueeze()\u001b[39m.\u001b[39mcpu(), caption\u001b[39m=\u001b[39m\u001b[39m\"\u001b[39m\u001b[39mreconstructed contact map\u001b[39m\u001b[39m\"\u001b[39m)\n\u001b[0;32m---> 71\u001b[0m     \u001b[39mself\u001b[39;49m\u001b[39m.\u001b[39;49mlogger\u001b[39m.\u001b[39;49mexperiment\u001b[39m.\u001b[39mlog({\u001b[39m\"\u001b[39m\u001b[39mtrain_original_contact_map\u001b[39m\u001b[39m\"\u001b[39m:og,\u001b[39m\"\u001b[39m\u001b[39mtrain_reconstructed_contact_map\u001b[39m\u001b[39m\"\u001b[39m:recon})\n\u001b[1;32m     73\u001b[0m \u001b[39mself\u001b[39m\u001b[39m.\u001b[39mlog(\u001b[39m\"\u001b[39m\u001b[39mtrain_loss\u001b[39m\u001b[39m\"\u001b[39m,loss\u001b[39m.\u001b[39mdetach(), on_step\u001b[39m=\u001b[39m\u001b[39mTrue\u001b[39;00m, on_epoch\u001b[39m=\u001b[39m\u001b[39mTrue\u001b[39;00m)\n\u001b[1;32m     74\u001b[0m \u001b[39mreturn\u001b[39;00m loss\n",
      "\u001b[0;31mAttributeError\u001b[0m: 'NoneType' object has no attribute 'experiment'"
     ]
    }
   ],
   "source": [
    "daifuku.training_step(next(iter(joint_hic_dataloader)),0)"
   ]
  },
  {
   "cell_type": "code",
   "execution_count": null,
   "metadata": {},
   "outputs": [],
   "source": []
  }
 ],
 "metadata": {
  "kernelspec": {
   "display_name": "daifuku",
   "language": "python",
   "name": "python3"
  },
  "language_info": {
   "codemirror_mode": {
    "name": "ipython",
    "version": 3
   },
   "file_extension": ".py",
   "mimetype": "text/x-python",
   "name": "python",
   "nbconvert_exporter": "python",
   "pygments_lexer": "ipython3",
   "version": "3.9.16"
  },
  "orig_nbformat": 4
 },
 "nbformat": 4,
 "nbformat_minor": 2
}
